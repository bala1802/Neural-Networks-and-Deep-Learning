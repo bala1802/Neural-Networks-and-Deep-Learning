{
 "cells": [
  {
   "cell_type": "markdown",
   "metadata": {},
   "source": [
    "`ReLU`: `Re`ctified `L`inear `U`nit\n",
    "\n",
    "`f(x)=max(0,x)`\n",
    "\n",
    "* `x` represents the input to the function. In case of Neural Networks, this could be a output from a Neuron\n",
    "* `f(x)` is the output of the function\n",
    "* The function returns `x` if `x` is greater than or equal to `0`; and it returns `0` if `x` is negative"
   ]
  },
  {
   "cell_type": "code",
   "execution_count": 1,
   "metadata": {},
   "outputs": [],
   "source": [
    "import torch"
   ]
  },
  {
   "cell_type": "code",
   "execution_count": 2,
   "metadata": {},
   "outputs": [],
   "source": [
    "# x is the output of a Neuron\n",
    "def relu_activation(x):\n",
    "    return torch.max(torch.zeros_like(x), x)"
   ]
  },
  {
   "cell_type": "code",
   "execution_count": 3,
   "metadata": {},
   "outputs": [],
   "source": [
    "#Example input data\n",
    "input_data = torch.tensor([-2.0, -1.0, 0, 1.0, 2.0])"
   ]
  },
  {
   "cell_type": "code",
   "execution_count": 4,
   "metadata": {},
   "outputs": [],
   "source": [
    "#Applying the relu activation function on the input_data\n",
    "output = relu_activation(x=input_data)"
   ]
  },
  {
   "cell_type": "code",
   "execution_count": 6,
   "metadata": {},
   "outputs": [
    {
     "data": {
      "text/plain": [
       "(tensor([-2., -1.,  0.,  1.,  2.]), tensor([0., 0., 0., 1., 2.]))"
      ]
     },
     "execution_count": 6,
     "metadata": {},
     "output_type": "execute_result"
    }
   ],
   "source": [
    "input_data, output"
   ]
  },
  {
   "cell_type": "markdown",
   "metadata": {},
   "source": [
    "* ReLU Activation(-2.0) = 0\n",
    "* ReLU Activation(-1.0) = 0\n",
    "* ReLU Activation(0) = 0\n",
    "* ReLU Activation(1.0) = 1\n",
    "* ReLU Activation(2.0) = 2"
   ]
  },
  {
   "cell_type": "markdown",
   "metadata": {},
   "source": [
    "- ReLU is often used in `hidden layers of deep neural networks` for text and image related to tasks.\n",
    "- ReLU encourages s`parse representations`, which means that it activates only a subset of neurons, making the network more efficient and easier to train.\n",
    "\n",
    "When ReLU should not be used?\n",
    "\n",
    "- ReLU `should not` be used in the `output layer` of `regression problems`, because it can produce unbounded positive values.\n",
    "- ReLU can suffer from the `vanishing gradient problem`, where gradients during training become zero for negative inputs. This can lead to slow convergence or network instability. \n",
    "- Some neurons in a ReLU-activated network can become `dead` if they `always output zero`. This can happen when weights are initialized inappropriately or during training."
   ]
  }
 ],
 "metadata": {
  "kernelspec": {
   "display_name": "torch",
   "language": "python",
   "name": "python3"
  },
  "language_info": {
   "codemirror_mode": {
    "name": "ipython",
    "version": 3
   },
   "file_extension": ".py",
   "mimetype": "text/x-python",
   "name": "python",
   "nbconvert_exporter": "python",
   "pygments_lexer": "ipython3",
   "version": "3.10.12"
  },
  "orig_nbformat": 4
 },
 "nbformat": 4,
 "nbformat_minor": 2
}
